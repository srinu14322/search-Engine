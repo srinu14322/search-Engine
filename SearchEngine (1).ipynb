{
 "cells": [
  {
   "cell_type": "code",
   "execution_count": 20,
   "id": "86e3c1d8",
   "metadata": {},
   "outputs": [],
   "source": [
    "import pandas as pd\n",
    "from tqdm import tqdm\n",
    "from nltk.tokenize import word_tokenize\n",
    "from chromadb import PersistentClient\n",
    "from chromadb.utils import embedding_functions\n",
    "from sklearn.metrics.pairwise import cosine_similarity\n",
    "from sentence_transformers import SentenceTransformer\n",
    "import sqlite3"
   ]
  },
  {
   "cell_type": "code",
   "execution_count": null,
   "id": "44c0791e",
   "metadata": {},
   "outputs": [],
   "source": [
    "conn = sqlite3.connect(r'C:\\Users\\SRINU\\Downloads\\eng_subtitles_database.db')\n",
    "cursor = conn.cursor()\n",
    "cursor.execute(\"SELECT name FROM sqlite_master WHERE type='table'\")\n",
    "print(cursor.fetchall())"
   ]
  },
  {
   "cell_type": "code",
   "execution_count": null,
   "id": "777318ba",
   "metadata": {},
   "outputs": [],
   "source": [
    "# Reading the columns of Table\n",
    "cursor.execute(\"PRAGMA table_info('zipfiles')\")\n",
    "cols = cursor.fetchall()\n",
    "for col in cols:\n",
    "    print(col[1])"
   ]
  },
  {
   "cell_type": "code",
   "execution_count": null,
   "id": "e073f2b9",
   "metadata": {},
   "outputs": [],
   "source": [
    "# Loading the Database Table inside a Pandas DataFrame\n",
    "df = pd.read_sql_query(\"\"\"SELECT * FROM zipfiles\"\"\", conn)\n",
    "df.head()"
   ]
  },
  {
   "cell_type": "code",
   "execution_count": null,
   "id": "ed1d4f87",
   "metadata": {},
   "outputs": [],
   "source": [
    "# Applying the above Function on the Entire Data\n",
    "import zipfile\n",
    "import io\n",
    "\n",
    "count = 0\n",
    "\n",
    "def decode_method(binary_data):\n",
    "    global count\n",
    "    # Decompress the binary data using the zipfile module\n",
    "    # print(count, end=\" \")\n",
    "    count += 1\n",
    "    with io.BytesIO(binary_data) as f:\n",
    "        with zipfile.ZipFile(f, 'r') as zip_file:\n",
    "            # Assuming there's only one file in the ZIP archive\n",
    "            subtitle_content = zip_file.read(zip_file.namelist()[0])\n",
    "\n",
    "    # Now 'subtitle_content' should contain the extracted subtitle content\n",
    "    return subtitle_content.decode('latin-1')  # Assuming the content is UTF-8 encoded text"
   ]
  },
  {
   "cell_type": "code",
   "execution_count": null,
   "id": "6a9a0089",
   "metadata": {},
   "outputs": [],
   "source": [
    "df['file_content'] = df['content'].apply(decode_method)\n",
    "\n",
    "df.head()"
   ]
  },
  {
   "cell_type": "code",
   "execution_count": null,
   "id": "a666d9d1",
   "metadata": {},
   "outputs": [],
   "source": [
    "import random\n",
    "\n",
    "random_df = df.sample(frac=0.3, random_state=42)\n",
    "\n",
    "print(random_df.shape)\n",
    "\n",
    "random_df.head()"
   ]
  },
  {
   "cell_type": "code",
   "execution_count": null,
   "id": "74eb51f0",
   "metadata": {},
   "outputs": [],
   "source": [
    "random_df.to_csv(\"random_sampled_data.csv\",index=False)"
   ]
  },
  {
   "cell_type": "code",
   "execution_count": null,
   "id": "5ed3480a",
   "metadata": {},
   "outputs": [],
   "source": [
    "import os\n",
    "os.getcwd()"
   ]
  },
  {
   "cell_type": "code",
   "execution_count": null,
   "id": "58f314a3",
   "metadata": {},
   "outputs": [],
   "source": [
    "df1=pd.read_csv(r\"random_sampled_data.csv\")"
   ]
  },
  {
   "cell_type": "code",
   "execution_count": null,
   "id": "77440d7f",
   "metadata": {},
   "outputs": [],
   "source": [
    "print(df1.shape)\n",
    "df1.head()"
   ]
  },
  {
   "cell_type": "code",
   "execution_count": 12,
   "id": "a7c00d0e",
   "metadata": {},
   "outputs": [
    {
     "name": "stderr",
     "output_type": "stream",
     "text": [
      "[nltk_data] Downloading package stopwords to\n",
      "[nltk_data]     C:\\Users\\SRINU\\AppData\\Roaming\\nltk_data...\n",
      "[nltk_data]   Package stopwords is already up-to-date!\n",
      "[nltk_data] Downloading package punkt to\n",
      "[nltk_data]     C:\\Users\\SRINU\\AppData\\Roaming\\nltk_data...\n",
      "[nltk_data]   Package punkt is already up-to-date!\n",
      "[nltk_data] Downloading package wordnet to\n",
      "[nltk_data]     C:\\Users\\SRINU\\AppData\\Roaming\\nltk_data...\n",
      "[nltk_data]   Package wordnet is already up-to-date!\n"
     ]
    },
    {
     "data": {
      "text/plain": [
       "True"
      ]
     },
     "execution_count": 12,
     "metadata": {},
     "output_type": "execute_result"
    }
   ],
   "source": [
    "import string\n",
    "import re\n",
    "import nltk\n",
    "from nltk.corpus import stopwords\n",
    "from nltk.tokenize import word_tokenize\n",
    "from nltk.stem import WordNetLemmatizer\n",
    "\n",
    "import nltk\n",
    "nltk.download('stopwords')\n",
    "nltk.download('punkt')\n",
    "nltk.download('wordnet')"
   ]
  },
  {
   "cell_type": "code",
   "execution_count": 9,
   "id": "e5d1f0aa",
   "metadata": {},
   "outputs": [],
   "source": [
    "def clean_subtitle(subtitle):\n",
    "    # Remove timestamps\n",
    "    clean_content = re.sub(r'\\d{2}:\\d{2}:\\d{2},\\d{3} --> \\d{2}:\\d{2}:\\d{2},\\d{3}\\n?', '', subtitle)\n",
    "\n",
    "    # Remove other non-textual patterns\n",
    "    clean_content = re.sub(r'<[^>]+>', '', clean_content)\n",
    "\n",
    "    clean_content = re.sub(r\"[^\\w\\s]\", '', clean_content)\n",
    "\n",
    "    clean_content = re.sub(r\"[^\\x00-\\x7F]+\", '', clean_content)\n",
    "\n",
    "    clean_content = re.sub(r\"\\b\\d+\\s\", '', clean_content)\n",
    "\n",
    "    # Convert to lowercase\n",
    "    clean_content = clean_content.lower()\n",
    "\n",
    "    # Tokenize the subtitle content\n",
    "    tokens = word_tokenize(clean_content)\n",
    "\n",
    "    # Remove stopwords and lemmatize tokens\n",
    "    stop_words = set(stopwords.words('english'))\n",
    "\n",
    "    lemmatizer = WordNetLemmatizer()\n",
    "    clean_tokens = [lemmatizer.lemmatize(word) for word in tokens if word.lower() not in stop_words]\n",
    "\n",
    "    # Join the filtered tokens back into a string\n",
    "    clean_content = ' '.join(clean_tokens)\n",
    "\n",
    "    return clean_content.strip()"
   ]
  },
  {
   "cell_type": "code",
   "execution_count": null,
   "id": "d87c5706",
   "metadata": {},
   "outputs": [],
   "source": [
    "df1['cleaned_content'] = df1['file_content'].apply(clean_subtitle)"
   ]
  },
  {
   "cell_type": "code",
   "execution_count": null,
   "id": "5f5fb30d",
   "metadata": {},
   "outputs": [],
   "source": [
    "df1.head()"
   ]
  },
  {
   "cell_type": "markdown",
   "id": "5c62cab9",
   "metadata": {},
   "source": [
    "### **4. (Must Implement) A very important step to improve the performance: Document Chunker.**\n",
    "\n",
    "a. Consider the challenge of embedding large documents: Information Loss.\n",
    "\n",
    "b. It is often not practical to embed an entire document as a single vector, particularly when dealing with long documents.\n",
    "\n",
    "c. Solution: Divide a large document into smaller, more manageable chunks for embedding.\n",
    "\n",
    "d. Another Problem: Let’s say we set the token window to be 500, then we’d expect each chunk to be just below 500 tokens. One common concern of this method is that we might accidentally cut off some important text between chunks, splitting up the context. To mitigate this, we can set overlapping windows with a specified amount of tokens to overlap so we have tokens shared between chunks."
   ]
  },
  {
   "cell_type": "code",
   "execution_count": null,
   "id": "3693a2b7",
   "metadata": {},
   "outputs": [],
   "source": [
    "df1.to_csv(\"cleaned_data.csv\",index=False)"
   ]
  },
  {
   "cell_type": "code",
   "execution_count": null,
   "id": "716094c9",
   "metadata": {},
   "outputs": [],
   "source": [
    "df=pd.read_csv(\"cleaned_data.csv\")"
   ]
  },
  {
   "cell_type": "code",
   "execution_count": null,
   "id": "ac4ba31b",
   "metadata": {},
   "outputs": [],
   "source": [
    "df.shape"
   ]
  },
  {
   "cell_type": "code",
   "execution_count": 11,
   "id": "20cd6354",
   "metadata": {},
   "outputs": [
    {
     "ename": "NameError",
     "evalue": "name 'df' is not defined",
     "output_type": "error",
     "traceback": [
      "\u001b[1;31m---------------------------------------------------------------------------\u001b[0m",
      "\u001b[1;31mNameError\u001b[0m                                 Traceback (most recent call last)",
      "Cell \u001b[1;32mIn[11], line 10\u001b[0m\n\u001b[0;32m      7\u001b[0m     \u001b[38;5;28;01mreturn\u001b[39;00m \u001b[38;5;28mlen\u001b[39m(tokens)\n\u001b[0;32m      9\u001b[0m \u001b[38;5;66;03m# Iterate through data and count tokens for each file\u001b[39;00m\n\u001b[1;32m---> 10\u001b[0m \u001b[38;5;28;01mfor\u001b[39;00m index, entry \u001b[38;5;129;01min\u001b[39;00m df\u001b[38;5;241m.\u001b[39miterrows():\n\u001b[0;32m     11\u001b[0m     total_tokens \u001b[38;5;241m=\u001b[39m count_tokens(entry[\u001b[38;5;124m\"\u001b[39m\u001b[38;5;124mcleaned_content\u001b[39m\u001b[38;5;124m\"\u001b[39m])\n\u001b[0;32m     12\u001b[0m     \u001b[38;5;28mprint\u001b[39m(\u001b[38;5;124mf\u001b[39m\u001b[38;5;124m\"\u001b[39m\u001b[38;5;124mFile: \u001b[39m\u001b[38;5;132;01m{\u001b[39;00mentry[\u001b[38;5;124m'\u001b[39m\u001b[38;5;124mname\u001b[39m\u001b[38;5;124m'\u001b[39m]\u001b[38;5;132;01m}\u001b[39;00m\u001b[38;5;124m, Number of Tokens: \u001b[39m\u001b[38;5;132;01m{\u001b[39;00mtotal_tokens\u001b[38;5;132;01m}\u001b[39;00m\u001b[38;5;124m\"\u001b[39m)\n",
      "\u001b[1;31mNameError\u001b[0m: name 'df' is not defined"
     ]
    }
   ],
   "source": [
    "import nltk\n",
    "from nltk.tokenize import word_tokenize\n",
    "\n",
    "# Function to count tokens\n",
    "def count_tokens(text):\n",
    "    tokens = word_tokenize(text)\n",
    "    return len(tokens)\n",
    "\n",
    "# Iterate through data and count tokens for each file\n",
    "for index, entry in df.iterrows():\n",
    "    total_tokens = count_tokens(entry[\"cleaned_content\"])\n",
    "    print(f\"File: {entry['name']}, Number of Tokens: {total_tokens}\")"
   ]
  },
  {
   "cell_type": "code",
   "execution_count": null,
   "id": "1b9e7a22",
   "metadata": {},
   "outputs": [],
   "source": [
    "from nltk.tokenize import word_tokenize\n",
    "import nltk\n",
    "nltk.download('punkt')"
   ]
  },
  {
   "cell_type": "code",
   "execution_count": null,
   "id": "dd05c710",
   "metadata": {},
   "outputs": [],
   "source": [
    "# Define the document chunker function\n",
    "def document_chunker(document, chunk_size=1500, overlap_size=200):\n",
    "    tokens = word_tokenize(document)  # Tokenize the document\n",
    "    num_tokens = len(tokens)\n",
    "    chunks = []\n",
    "\n",
    "    # Iterate over the tokens and create chunks with specified overlap\n",
    "    for start in range(0, num_tokens, chunk_size - overlap_size):\n",
    "        end = min(start + chunk_size, num_tokens)\n",
    "        chunk = tokens[start:end]\n",
    "        chunks.append({'name': row['name'], 'chunk_index': len(chunks) + 1, 'chunk_text': ' '.join(chunk)})\n",
    "\n",
    "    return chunks"
   ]
  },
  {
   "cell_type": "code",
   "execution_count": null,
   "id": "00e56c15",
   "metadata": {},
   "outputs": [],
   "source": [
    "# Define the document chunker function\n",
    "def document_chunker(document, chunk_size=1500, overlap_size=200):\n",
    "    tokens = word_tokenize(document)  # Tokenize the document\n",
    "    num_tokens = len(tokens)\n",
    "    chunks = []\n",
    "\n",
    "    # Iterate over the tokens and create chunks with specified overlap\n",
    "    for start in range(0, num_tokens, chunk_size - overlap_size):\n",
    "        end = min(start + chunk_size, num_tokens)\n",
    "        chunk = tokens[start:end]\n",
    "        chunks.append({'name': row['name'], 'chunk_index': len(chunks) + 1, 'chunk_text': ' '.join(chunk)})\n",
    "\n",
    "    return chunks"
   ]
  },
  {
   "cell_type": "code",
   "execution_count": null,
   "id": "0b93ce99",
   "metadata": {},
   "outputs": [],
   "source": [
    "# Apply the document chunker to each cleaned document in the DataFrame\n",
    "all_chunks = []\n",
    "for index, row in df.iterrows():\n",
    "    document = row['cleaned_content']\n",
    "    document_chunks = document_chunker(document)\n",
    "    all_chunks.extend(document_chunks)\n",
    "\n",
    "# Create a new DataFrame from the list of chunks\n",
    "chunks_df = pd.DataFrame(all_chunks)"
   ]
  },
  {
   "cell_type": "code",
   "execution_count": null,
   "id": "d6b52097",
   "metadata": {},
   "outputs": [],
   "source": [
    "print(chunks_df.shape)\n",
    "\n",
    "chunks_df.head()"
   ]
  },
  {
   "cell_type": "code",
   "execution_count": null,
   "id": "a0b69fba",
   "metadata": {},
   "outputs": [],
   "source": [
    "chunks_df.to_csv(\"chunks_data.csv\",index=False)"
   ]
  },
  {
   "cell_type": "markdown",
   "id": "07c97df0",
   "metadata": {},
   "source": [
    "### **3. Experiment with the following to generate text vectors of subtitle documents:**\n",
    "\n",
    "a. BOW/TFIDFto generate sparse vector representations. Note that this will only help you to build a Keyword Based Search Engine.\n",
    "\n",
    "b. BERT based “SentenceTransformers” to generate embeddings which encode\n",
    " semantic information. This can help us build a Semantic Search Engine."
   ]
  },
  {
   "cell_type": "code",
   "execution_count": 3,
   "id": "e6ac699a",
   "metadata": {},
   "outputs": [
    {
     "name": "stdout",
     "output_type": "stream",
     "text": [
      "(62637, 3)\n"
     ]
    },
    {
     "data": {
      "text/html": [
       "<div>\n",
       "<style scoped>\n",
       "    .dataframe tbody tr th:only-of-type {\n",
       "        vertical-align: middle;\n",
       "    }\n",
       "\n",
       "    .dataframe tbody tr th {\n",
       "        vertical-align: top;\n",
       "    }\n",
       "\n",
       "    .dataframe thead th {\n",
       "        text-align: right;\n",
       "    }\n",
       "</style>\n",
       "<table border=\"1\" class=\"dataframe\">\n",
       "  <thead>\n",
       "    <tr style=\"text-align: right;\">\n",
       "      <th></th>\n",
       "      <th>name</th>\n",
       "      <th>chunk_index</th>\n",
       "      <th>chunk_text</th>\n",
       "    </tr>\n",
       "  </thead>\n",
       "  <tbody>\n",
       "    <tr>\n",
       "      <th>0</th>\n",
       "      <td>maybe.this.time.(2014).eng.1cd</td>\n",
       "      <td>1</td>\n",
       "      <td>watch video online opensubtitles free browser ...</td>\n",
       "    </tr>\n",
       "    <tr>\n",
       "      <th>1</th>\n",
       "      <td>maybe.this.time.(2014).eng.1cd</td>\n",
       "      <td>2</td>\n",
       "      <td>also answer question invest something trendy r...</td>\n",
       "    </tr>\n",
       "    <tr>\n",
       "      <th>2</th>\n",
       "      <td>maybe.this.time.(2014).eng.1cd</td>\n",
       "      <td>3</td>\n",
       "      <td>kitchen thats learned cook hmm thats miss moni...</td>\n",
       "    </tr>\n",
       "    <tr>\n",
       "      <th>3</th>\n",
       "      <td>maybe.this.time.(2014).eng.1cd</td>\n",
       "      <td>4</td>\n",
       "      <td>take ah wow like newlywed maybe time itll lovi...</td>\n",
       "    </tr>\n",
       "    <tr>\n",
       "      <th>4</th>\n",
       "      <td>maybe.this.time.(2014).eng.1cd</td>\n",
       "      <td>5</td>\n",
       "      <td>time maybe time love wont end two old friend m...</td>\n",
       "    </tr>\n",
       "  </tbody>\n",
       "</table>\n",
       "</div>"
      ],
      "text/plain": [
       "                             name  chunk_index  \\\n",
       "0  maybe.this.time.(2014).eng.1cd            1   \n",
       "1  maybe.this.time.(2014).eng.1cd            2   \n",
       "2  maybe.this.time.(2014).eng.1cd            3   \n",
       "3  maybe.this.time.(2014).eng.1cd            4   \n",
       "4  maybe.this.time.(2014).eng.1cd            5   \n",
       "\n",
       "                                          chunk_text  \n",
       "0  watch video online opensubtitles free browser ...  \n",
       "1  also answer question invest something trendy r...  \n",
       "2  kitchen thats learned cook hmm thats miss moni...  \n",
       "3  take ah wow like newlywed maybe time itll lovi...  \n",
       "4  time maybe time love wont end two old friend m...  "
      ]
     },
     "execution_count": 3,
     "metadata": {},
     "output_type": "execute_result"
    }
   ],
   "source": [
    "df1 = pd.read_csv(r\"chunks_data.csv\")\n",
    "\n",
    "print(df1.shape)\n",
    "\n",
    "df1.head()"
   ]
  },
  {
   "cell_type": "code",
   "execution_count": 4,
   "id": "1b042ea7",
   "metadata": {},
   "outputs": [
    {
     "data": {
      "text/plain": [
       "'advertise product brand contact wwwopensubtitlesorg today congratulation rabbi oh well rabbi wife asks tell im lasri send father warm gratitude chandelier beautiful im asked right educational method yeshiva headmaster turned complained yeshiva student went ski vacation ski vacation five day complained ignore keep theyre good men study excel wanted day break expel yeshiva unacceptable every time student finish mishna chapter theyll go trip school would stay empty gmara book would left unread corner torah headmaster asked correct educational method teach boy way impose mountain basin answer ill tell right method right method daniel paran dori medium darset present created written directed eliran malka creator main editor daniel paran directed maor zaguri new black gedaliah stop bugging sorry rabbi come need come well yesterday awesome im gedaliah hi im talus usually break ice begin date story first date rabbi ovadia wife told information im going study torah wont clean wont cook wont anything torah studying wont even build sukkah wont replace bulb wont take car shop wont touch rag nothing study torah thats told first date find sentence touching actually left pretty quickly gedaliah dont consider dropping opening line rabbi gave three year ago still best part okay forget want move room theyre going renovation replace pipe stay work dont mind one month temporary room wish move gedaliah im right dont call sorry rabbi room honor wish move im gedaliah good best im supposed move many time tell touch hat come avinoam wasnt purpose ill fix calm cant fix broke kneitsch fold cant fix broken kneitsch saying friend fix kneitsch dont worry trust avinoam dont friend broken kneitsch unrepairable gone tell cant fix cant fix kneitsch gone hat gone told ton time meir dont break kneitsch meir gentle weight dont break kneitsch broke kneitsch thank much laser stay hat hold avinoam hat mine upset yes upset avinoam hat whats took hat borsalino yell breaking kneitsch cheeky boy buy borsalino calling cheeky get hand apologize apologize ill kill dont ill burn cigarette say youre sorry want see let go want supposed move say rabbi bloch told must mistake there room seems though youre three room capacity five yes lasri told move room rabbi bloch already tight youre room three rest live five room sleep bunk bed also matter seniority didnt arrive yesterday lasri maybe also want seat next holy ark honor maybe take day think lasri complete saying wash dish dinner warm fire sage cautious remember something coal light burn cautious around coal burned bite bite fox sting sting scorpion hiss hiss seraph word like burning coal book father chapter mishna see happens dont waste time gedaliah talk privately please honest need help guy cant meet meet meet meir he tsa want room learn thing two thats rabbi he tsa hell die tsa youll help die married tsa okay honor dont want creature room listen he freaking dont want sleeping next internet jacket van dam shvan dam work well agree everything fine well whatever headmaster asking u future headmaster dont put cart horse already rabbi already tsa tormented saint devout haredi geek help anyone shouldve brought librarian shelf going put there room everything ill put machine table okay ill put biography book chess come put hold second ill also need mattress like sleep shall sleep ground eat bread salt started okayt started okay look gedaliah maybe rabbi bloch want let cross line one space dov setting line start good thing let go stove heated stubble raking school shamai get amazing simple genius simple unbelievable messenger becomes receiver question simple anyone know translation meir middle like mitzvah good tsdaka tsitsit tsuka tefilin know problem excuse problem dont think there logic word read though theyre word thats dont understand example okay say cant give charity night think like thats cant give charity night there logic there logic whats logic listen story rabbi hanina used give charity night hed night another night another night another night one day bang demon get say hanina stop giving charity night hanina look say excuse give charity whenever wherever see fit demon come closer say shall remove neighbor landmark hanina doesnt get come closer demon come closer come closer demon come closer theyre far start hitting poof demon disappears okay whats logic dont enter somebody el territory night territory demon ghost dont go mitzvah there time mitzvah there time demon wish get yeshiva back track wish get yeshiva back track tragedy weve feeling cant keep student whose feeling everyones everybody agrees reputation fallen past month educator education hard work take time patience rabbi bloch way ran yeshiva boy hanging coffee house delight mall etc want know dont chase send little supervisor instructor run around wrangle thats method seems though method dont explain educational method u believe student supervisor mean exactly little hard explain mean exactly listen rabbi bloch right seven student registered next year seven student instead think explain mean exactly dear god seder already started seder isnt going anywhere gedaliah seder still chill itll got get dressed rabbi want move back old room dont care replace pipe electricity whatever go back gedaliah let talk later lot mind look really good guy want study mean seriously fooling around need atmosphere teireh torah yiddish dialect atmosphere teireh rabbi shach fact didnt wake prayer first time managed fine without move another room everything happened yeshiva yesterday really think deal room issue happened yesterday yeshiva sorry gedaliah enough come take lunch im sorry barbecue sacher park happened ask many question let go well back hour youll time seder come let go live buy watch want check cant believe oh seriously brought yes noticed didnt rabbi bloch ask help he tsa meir look meir seriously carrying around whole jewish book shelf come gedaliah commercial breakwe continue ultraorthodox world army recruitment yeshiva student father go knesset bus dont worry father talking bus drop line must late chavrusa hour kill avinoam look who unbelievable ashi shpitzer rabbi ashi shpitzer rabbi course youre never going forgive shiur klali gittin think yes question shiur klali gittin started making hard shpitzer tried break process thought thats learn avinoam tried make hard front everyone let eat dish saying front everyone question fit little kid thats humiliating shpitzer avinoam avinoam shpitzer avinoam havent seen missed safe ride respect scholar whats wrong feel respect person never gedaliah look place feel comfortable home stop feeling like haredi story come buy capsule hello good afternoon hello need couple box capsule model first latisima frothing function orange u first orange u latisima difference make meir yellow pixie really like really okay okay need sleeve purple plastic capsule meir theyre plastic aluminum purple capsule exactly excellent good loved fruity scent heard new blend african yes capsule fit nespressos machine sure machine nespresso yes yes yes sure bought say whats kosher certification rabbinate thats think maybe religious court justice one haredi mahfud gedaliah okay make mind well take want three sleeve arpeggio two restreto whats hard understand well written anywhere please find hatam sofer beit yosef hello im checking please patient e dont buy store gedaliah hear word tact saying cant go store start yelling kosher certificate bother doesnt bother bother store atmosphere oh bother store atmosphere see know didnt care one bit avinoam yes true avinoam didnt care meir id upset someone came store started questioning kosher certification rabbinate court justice haredi megadim beit yosef hatam sofer rabbi mahfud rubin youre haredi yes avinoam even acted beautifully kept quiet like youre class tried flatter fruity scent still little one little one pee look gedaliah want tell something yes segregate convenient alone studying torah day long want part story part whats happening dont want observer get fuck listen take ball go elsewhere barbecue calm first move car barbecue tell whats problem bother barbecue whats wrong man dont tell whats wrong fuck tell fuck right fuck avinoam thought friend tell want part story stop pushing pushing holy work worth much torah study room avinoam think nice clothes suit zara hell want friend youre totally youll happy locked shed talmud book whats wrong great thats nobody want date know didnt say anything well chicken ready who first well think much one day im going back yeshiva gedaliah im going kick as whats wrong hey hey hey whats problem dont tell whats problem hear whats pleasant way friend way pleasant way fuck pleasant haredi piece shit say he joking meir he joking called u piece shit know let see got ball ball play u see haredi piece shit okay thats going easy get four play score one touchdown field e four try win field done okay ball first come let go mind theyre professional dont even know rule know rule complicated run ball side thats come ready let war balli gedaliah gedaliah gedaliah yarmulke yarmulke come come let go saw picked listen remembered something blood sport van dam say last fight peak nice innovation meir ok bring listen tell mr miagi many hit take many hit take still get hit back right let get hit back come there something'"
      ]
     },
     "execution_count": 4,
     "metadata": {},
     "output_type": "execute_result"
    }
   ],
   "source": [
    "df1['chunk_text'][111]"
   ]
  },
  {
   "cell_type": "code",
   "execution_count": 5,
   "id": "67b5e99f",
   "metadata": {},
   "outputs": [],
   "source": [
    "from sklearn.feature_extraction.text import TfidfVectorizer\n",
    "from sklearn.metrics.pairwise import cosine_similarity"
   ]
  },
  {
   "cell_type": "code",
   "execution_count": 6,
   "id": "eac785a5",
   "metadata": {},
   "outputs": [],
   "source": [
    "# Calculate TF-IDF for the documents\n",
    "tfidf_vectorizer = TfidfVectorizer()\n",
    "tfidf_matrix = tfidf_vectorizer.fit_transform(df1['chunk_text'])"
   ]
  },
  {
   "cell_type": "code",
   "execution_count": 7,
   "id": "ae76fa8b",
   "metadata": {},
   "outputs": [],
   "source": [
    " "
   ]
  },
  {
   "cell_type": "code",
   "execution_count": 13,
   "id": "c24fa061",
   "metadata": {},
   "outputs": [],
   "source": [
    "\n",
    "cleaned_query = clean_subtitle(query)\n",
    "\n",
    "# Calculate TF-IDF for the query\n",
    "query_tfidf = tfidf_vectorizer.transform([cleaned_query])\n",
    "\n",
    "# Calculate cosine similarity between the query and documents\n",
    "cosine_similarities = cosine_similarity(query_tfidf, tfidf_matrix)\n",
    "\n",
    "# Get the indices of documents sorted by similarity score\n",
    "sorted_indices = cosine_similarities.argsort()[0][::-1]"
   ]
  },
  {
   "cell_type": "code",
   "execution_count": 14,
   "id": "c46402b0",
   "metadata": {},
   "outputs": [
    {
     "name": "stdout",
     "output_type": "stream",
     "text": [
      "Top 5 most similar chunk_text:\n",
      "Document 1: advertise product brand contact wwwopensubtitlesorg today congratulation rabbi oh well rabbi wife asks tell im lasri send father warm gratitude chandelier beautiful im asked right educational method yeshiva headmaster turned complained yeshiva student went ski vacation ski vacation five day complained ignore keep theyre good men study excel wanted day break expel yeshiva unacceptable every time student finish mishna chapter theyll go trip school would stay empty gmara book would left unread corner torah headmaster asked correct educational method teach boy way impose mountain basin answer ill tell right method right method daniel paran dori medium darset present created written directed eliran malka creator main editor daniel paran directed maor zaguri new black gedaliah stop bugging sorry rabbi come need come well yesterday awesome im gedaliah hi im talus usually break ice begin date story first date rabbi ovadia wife told information im going study torah wont clean wont cook wont anything torah studying wont even build sukkah wont replace bulb wont take car shop wont touch rag nothing study torah thats told first date find sentence touching actually left pretty quickly gedaliah dont consider dropping opening line rabbi gave three year ago still best part okay forget want move room theyre going renovation replace pipe stay work dont mind one month temporary room wish move gedaliah im right dont call sorry rabbi room honor wish move im gedaliah good best im supposed move many time tell touch hat come avinoam wasnt purpose ill fix calm cant fix broke kneitsch fold cant fix broken kneitsch saying friend fix kneitsch dont worry trust avinoam dont friend broken kneitsch unrepairable gone tell cant fix cant fix kneitsch gone hat gone told ton time meir dont break kneitsch meir gentle weight dont break kneitsch broke kneitsch thank much laser stay hat hold avinoam hat mine upset yes upset avinoam hat whats took hat borsalino yell breaking kneitsch cheeky boy buy borsalino calling cheeky get hand apologize apologize ill kill dont ill burn cigarette say youre sorry want see let go want supposed move say rabbi bloch told must mistake there room seems though youre three room capacity five yes lasri told move room rabbi bloch already tight youre room three rest live five room sleep bunk bed also matter seniority didnt arrive yesterday lasri maybe also want seat next holy ark honor maybe take day think lasri complete saying wash dish dinner warm fire sage cautious remember something coal light burn cautious around coal burned bite bite fox sting sting scorpion hiss hiss seraph word like burning coal book father chapter mishna see happens dont waste time gedaliah talk privately please honest need help guy cant meet meet meet meir he tsa want room learn thing two thats rabbi he tsa hell die tsa youll help die married tsa okay honor dont want creature room listen he freaking dont want sleeping next internet jacket van dam shvan dam work well agree everything fine well whatever headmaster asking u future headmaster dont put cart horse already rabbi already tsa tormented saint devout haredi geek help anyone shouldve brought librarian shelf going put there room everything ill put machine table okay ill put biography book chess come put hold second ill also need mattress like sleep shall sleep ground eat bread salt started okayt started okay look gedaliah maybe rabbi bloch want let cross line one space dov setting line start good thing let go stove heated stubble raking school shamai get amazing simple genius simple unbelievable messenger becomes receiver question simple anyone know translation meir middle like mitzvah good tsdaka tsitsit tsuka tefilin know problem excuse problem dont think there logic word read though theyre word thats dont understand example okay say cant give charity night think like thats cant give charity night there logic there logic whats logic listen story rabbi hanina used give charity night hed night another night another night another night one day bang demon get say hanina stop giving charity night hanina look say excuse give charity whenever wherever see fit demon come closer say shall remove neighbor landmark hanina doesnt get come closer demon come closer come closer demon come closer theyre far start hitting poof demon disappears okay whats logic dont enter somebody el territory night territory demon ghost dont go mitzvah there time mitzvah there time demon wish get yeshiva back track wish get yeshiva back track tragedy weve feeling cant keep student whose feeling everyones everybody agrees reputation fallen past month educator education hard work take time patience rabbi bloch way ran yeshiva boy hanging coffee house delight mall etc want know dont chase send little supervisor instructor run around wrangle thats method seems though method dont explain educational method u believe student supervisor mean exactly little hard explain mean exactly listen rabbi bloch right seven student registered next year seven student instead think explain mean exactly dear god seder already started seder isnt going anywhere gedaliah seder still chill itll got get dressed rabbi want move back old room dont care replace pipe electricity whatever go back gedaliah let talk later lot mind look really good guy want study mean seriously fooling around need atmosphere teireh torah yiddish dialect atmosphere teireh rabbi shach fact didnt wake prayer first time managed fine without move another room everything happened yeshiva yesterday really think deal room issue happened yesterday yeshiva sorry gedaliah enough come take lunch im sorry barbecue sacher park happened ask many question let go well back hour youll time seder come let go live buy watch want check cant believe oh seriously brought yes noticed didnt rabbi bloch ask help he tsa meir look meir seriously carrying around whole jewish book shelf come gedaliah commercial breakwe continue ultraorthodox world army recruitment yeshiva student father go knesset bus dont worry father talking bus drop line must late chavrusa hour kill avinoam look who unbelievable ashi shpitzer rabbi ashi shpitzer rabbi course youre never going forgive shiur klali gittin think yes question shiur klali gittin started making hard shpitzer tried break process thought thats learn avinoam tried make hard front everyone let eat dish saying front everyone question fit little kid thats humiliating shpitzer avinoam avinoam shpitzer avinoam havent seen missed safe ride respect scholar whats wrong feel respect person never gedaliah look place feel comfortable home stop feeling like haredi story come buy capsule hello good afternoon hello need couple box capsule model first latisima frothing function orange u first orange u latisima difference make meir yellow pixie really like really okay okay need sleeve purple plastic capsule meir theyre plastic aluminum purple capsule exactly excellent good loved fruity scent heard new blend african yes capsule fit nespressos machine sure machine nespresso yes yes yes sure bought say whats kosher certification rabbinate thats think maybe religious court justice one haredi mahfud gedaliah okay make mind well take want three sleeve arpeggio two restreto whats hard understand well written anywhere please find hatam sofer beit yosef hello im checking please patient e dont buy store gedaliah hear word tact saying cant go store start yelling kosher certificate bother doesnt bother bother store atmosphere oh bother store atmosphere see know didnt care one bit avinoam yes true avinoam didnt care meir id upset someone came store started questioning kosher certification rabbinate court justice haredi megadim beit yosef hatam sofer rabbi mahfud rubin youre haredi yes avinoam even acted beautifully kept quiet like youre class tried flatter fruity scent still little one little one pee look gedaliah want tell something yes segregate convenient alone studying torah day long want part story part whats happening dont want observer get fuck listen take ball go elsewhere barbecue calm first move car barbecue tell whats problem bother barbecue whats wrong man dont tell whats wrong fuck tell fuck right fuck avinoam thought friend tell want part story stop pushing pushing holy work worth much torah study room avinoam think nice clothes suit zara hell want friend youre totally youll happy locked shed talmud book whats wrong great thats nobody want date know didnt say anything well chicken ready who first well think much one day im going back yeshiva gedaliah im going kick as whats wrong hey hey hey whats problem dont tell whats problem hear whats pleasant way friend way pleasant way fuck pleasant haredi piece shit say he joking meir he joking called u piece shit know let see got ball ball play u see haredi piece shit okay thats going easy get four play score one touchdown field e four try win field done okay ball first come let go mind theyre professional dont even know rule know rule complicated run ball side thats come ready let war balli gedaliah gedaliah gedaliah yarmulke yarmulke come come let go saw picked listen remembered something blood sport van dam say last fight peak nice innovation meir ok bring listen tell mr miagi many hit take many hit take still get hit back right let get hit back come there something\n",
      "Document 2: thought friend tell want part story stop pushing pushing holy work worth much torah study room avinoam think nice clothes suit zara hell want friend youre totally youll happy locked shed talmud book whats wrong great thats nobody want date know didnt say anything well chicken ready who first well think much one day im going back yeshiva gedaliah im going kick as whats wrong hey hey hey whats problem dont tell whats problem hear whats pleasant way friend way pleasant way fuck pleasant haredi piece shit say he joking meir he joking called u piece shit know let see got ball ball play u see haredi piece shit okay thats going easy get four play score one touchdown field e four try win field done okay ball first come let go mind theyre professional dont even know rule know rule complicated run ball side thats come ready let war balli gedaliah gedaliah gedaliah yarmulke yarmulke come come let go saw picked listen remembered something blood sport van dam say last fight peak nice innovation meir ok bring listen tell mr miagi many hit take many hit take still get hit back right let get hit back come there something similar book yevamot page wide line bottom verse thousand shall put ten thousand flight listen let show haredi piece shit okay come thousand shall put okay later well complete later sentence run gedaliah run run gedaliah run run run gedaliah run yes yes wow gedaliah good one good one haredi piece shit haredi piece shit honest gedaliah would happen stayed room haredi piece shit wolf whats whats news dont ask board met yesterday decided cant go way decided appoint new supervisor headmaster headmaster yeshiva headmaster coming last night yeshiva board granted privilege supervisor asked first thing id told there story rabbi alter cooper wife heart attack didnt want disturb husband studying torah room crawled floor spitting blood way helper room asked ambulance know torah achieved agony hard work ill take yeshiva back glorious day happen agony hard work good morning support u become vip member remove ad wwwopensubtitlesorg\n",
      "Document 3: woe listen gedaliah beat evil inclination must burn fire hajbi really brainwashed burn billboard get caught go jail may get caught name torah isnt avinoams car know kind saying kind kind meir doesnt know say isnt ruth let go middle gedaliah hajbi right get rid evil thought must go extreme come gedaliah say hagomel forget hagomel say hagomel say got plan tonight wan na rabbi bezalel one night shira avinoam hey asked say word fashion show begin youre really never kissed girl really would like believe youre saying whats billboard bridge set fire begin highway hear anything vaguely smelled woman revealing clothing billboard ad go flame shocked yet see car seen footage left burn site minute fire set pulled nearby road two guy exited want question student based yeshiva area alone netivot detail cant share say arsonist came may ask ehud stern heard youre nicknamed fox okay fox arent kosher yeah nice tail honorable fox possible hatred towards haredi biased entering coalition driven people mad mountain air street alone three nationalreligious yeshiva ive solved case billboard arson always haredi guess requires courage yeah must know lot courage year sitting ambush lebanon operation gaza honorable fox yeshiva run come tomorrow well settle alright problem soon leave im sending clip kikar hashabbat im sure itll help image rabbi spitzer trying build yeshiva best honored rabbi say mizrachhnikim slang zionist become secular dont care torah study want name ill give name want buy spot hell suit hell please god save please god save gedaliah get grip breathe breathe calm breathe know whats gon na happen three year jail public issue judge go hard give eight year wont calm hell send maasiyahu prison ill never establish yeshiva called shaagat gedaliah ill forgotten see giving daf yomi lesson jail calm know wholl cellmate take easy gedaliah nothing u everyones suspect come straight u well gedaliah tell studied last night exactly study buddy cant say cant lie well come visit jail gedaliah cant believe youre awesome thats say im going jail thats gedaliah youre going jail remember gedaliah shower jail better knock see he fainting gedaliah gedaliah gedaliah get grip theyll question many student nobody suspect alright good put hat take gemara act natural okay natural natural exactly im natural good im natural everythings fine good regular day im oh dear daniel paran dori medium darset present created written directed eliran malka creator main editor daniel paran directed maor zaguri new black episode chiuv obligation excuse wasnt told itd female cop problem wasnt wasnt one decreed cant alone room according halacha cant seclusion seclusion seclusion something might happen u dont worry nothing nobody supervise chastity never know one say something get intrigued one thing lead another wont please either open door window fine ill open window alright smashing get srugim slang nationalreligious ambushing u think thats harassment yeshiva jerusalem decide come think srugim ambush mean srugim defend night defend soldier torah fine well get excuse yes get female cop someone tip nobody tip know everything everything well lasri youre godfearing guy believe didnt last night study hall usual nice studying hebron sanhedrin whod study lazer brown lazer brown called lazer know dad invented laser laser surgery left eye hey thats joke howd know know meir told really want ruth shes relevant question he study buddy yes usually tzachi hershkowitz happened distressing situation helped driving chevy equinox last night last night ever mean know stuff dont driver license chapter chapter name chapter stoned immolated okay dismissed scram scram hebron studying teicher wrong answer bezalel girlfriend shira true boy dont sex get married hear shes nice girl good family herzliya dont know youre talking study architecture must liberated huh want getting blurry gedaliah id like water please anything want tell find impolite ask blunt question impolite part life yes way around wouldnt ask bluntly guarantee would never okay want know bezalel know didnt thats right didnt burn billboard know perpetrator driving new chevy equinox like dad torah lesson rabbi romema romema rabbi dont remember dont vaguely remember wore suit nice suit youve passed test become rabbi dont remember name know told girl perhaps gedaliah meir wasnt nobody know u except change questioning realize cant change could stay wrap give want could give story kikar hashabbat theyll know make gossip mk lasris son wan na take 10minute break refreshment break thank god used go yeshiva wellknown one yeshiva baalei tshuva entrance city really dont look like former yeshiva student well know meir dont know tell forget forget say guy burned billboard hero could hang something like holy city could put immodest billboard youre right tell saw guy id tell dude da man u right tell stupid could guy huh youre burn used dad car huh without telling know security cam jerusalem jerusalem security cam jerusalem jerusalem insensitive gedaliah listen got ta come clean dont hell tell press shira dad kill youd let go jail save skin gedaliah im responsible action dont mind avinoam play huge part thats happened since left dorm whole mess began moved apartment responsible burned matter look shut whats going know everything got info guy study hall asked told everything bunch snitch theyll tell everything doomed use say called fox fox unkosher know talk im writing go looked unfortunately cant help seems driver wasnt driving family car guess similar see youve decided famous im dead serious think license plate show dozen car like jerusalem three one owned chief rabbi okay rule one owned cinematheque manager artsy type who sweden leaf u car know im one family yes dad tel aviv brother brilliant brother hear he really yeah yeah yeah ive got three sister rachel yaffa shifra dumb name none license hate haredi much dont tell bet ghetto mentality tick huh ghetto mentality youre real yeshiva student youd hook youre fake yeshiva student take break talking demand mincha break cant miss sunset four hour away minute top plus rabbeinu tam sundown think theyll make time perhaps according tradition full mincha everybody let go let pray lunch isnt murder case always say never know rabbi lasri shut fine lead service chiuv obligation youre jewish right last time checked fine talit podium rabbi bloch great see blessed resurrects dead leave boy alone month set jerusalem fire rabbi avinoam im kidding whats gone whats gone u look wont around save skin forever excuse there misunderstanding rabbi said doesnt call shot ive got chiuv anyone else got chiuv yeshiva student take podium instruction previous headmaster blessed memory yeshiva student yeshiva yeshiva well present student former student great attended maalot yeshiva count member fraternity whatre criterion member fraternity godfearing diligent student men integrity many time complete shas well actually didnt completed three time still dont make cut honorable fox dont naive go way beyond level haredi certain level nationalreligious another please get wed like begin prayer hershkowitz take podium long since two month since moved apartment skimping hershkowitz thats youre getting others got schnitzel scram thankful got food unbelievable think know person five year stab back meir hows questioning coming along talking meirke arent ever gon na forgive apologize family tradition dating back vilna gaon ask forgiveness yom kippur lazer patience hows itgoing geek he quite character ive never seen anything like pity future wife hell uptight even touch hell cum go thats way talk front woman listen pini im sure he perpetrator dont know he elusive never know whats hiding beneath fear heard fox personal bit hell confess use sexuality thats im perhaps open blouse bit hell crack wear corset leather mini skirt wouldnt object pini cool come iris every woman like compliment asked every woman youre gender investigator cant take compliment problem got thanks give ride home done thanks got ta work ever need anything im service ever need forget say seeing anyone first dont see girl go date exactly mean mean id like working let conclude dont ask please okay asking asked last night said studying lazer brown lesson romema romema couldnt remember name rabbi spitzer say youre prodigy remembers thing heart could forget rabbi name im bad name cant take another water break know cant remember checked yesterday lesson schedule romema guess found name name rabbi hajbi thats right thats right thats right said sound right remembered name personally questioned rabbi hajbi burning billboard beit shemesh many student attended lesson yes didnt drive chevy drive back yeshiva understand mean gedalia gedaliah burned billboard almighty god help burned billboard dont get fox wasnt start point here know meir billboard facing yeshiva burned last night car yeshiva left crime scene four didnt attend evening class four went hajbis lesson three alibi avinoam bezalel alibi confirmed lazer gedaliah studied alibi confirmed meir meir leaf people couldve burned billboard last night meir youre right last night drove car date girl nearby park date yes didnt want anyone know met girl who girl ruth gottlieb check second youd go jail sabag thats last night check like okay stay give cell phone cell phone youll sign confession form im dead meat shouldnt burn billboard\n",
      "Document 4: support u become vip member remove ad wwwopensubtitlesorg need help yes meir meir impressive isnt chance matchmaking wait dov went date one check please different subject new leaf brother cool thats told dont reject us head whats problem dont think two compatible dont give crap want man meir dont waste time even shiomi told waste time shes one thats work gedaliah meet devorah twin sister even brought book thats nice theyre mine read article enjoy life whirlwind keep stable shira look nice always think comfort avinoam look kid cant live forever tiny dorm room already getting along say let air itll help u study smoking unhealthy better sport yep stayed night managed convince sorotzkin get businessclass ticket instead coach ashi missing something there fundraising trip america every year like take turn thought wed send year thanks ill pas someone rabbi duvid get ear ache flight sure youd trying exile rabbi shame there trust u bloch think bribe like student benefit value didnt bribe decided work together instead fight every one said brother good courage put father apartment technically apartment decided give im flying america thats told menahem mentch study university instead yeshiva didnt approved ski trip student didnt moved pious student troublemaker didnt youve stopped disciplinarian bloch youre ruining pay mistake need fly america thats wanted get married dont forget earplug call rabbi yes real cash gedaliah go feldheim get book library great love feldheim book lacking well many starter rishonim high demand student fighting standing line wait ive made list go rivash responsa new interpretation rashba nedarim ritva pesachim haran entire shas want three set please id also add reb chaims stencil reb shimon hamburg edition responsa chazon ish maharikash there new edition could interesting ketzos gemara page feel must gedaliah good luck okay shev smatta rabbi get shev smatta two want one case taken rabbi daniel paran dori medium darset present created written directed eliran malka creator main editor daniel paran directed maor zaguri new black driving tel aviv tel aviv avinoam let please avinoam id like get let please gedaliah jerusalemtel aviv highway cant stop promised take feldheim bnei brak promised thats came along gedaliah going feldheim making stop brook brother got new cufflink lazer want dress hell cufflink promised feldheim stand word gedaliah control anger subject kind gehinnom dont give gedaliah know youre thinking whats serious yeshiva student designer store rabin square filth promiscuity going ill explain mr brook brook brother becoming observant he finally one u family galician father ritual slaughterer started learning kabbalah like madonna may name evil people erased he become observant go daf yomi started studying subsidizes four kollels gedaliah even kashruth supervisor year wouldnt supporter torah like mr brook true story yep gedaliah im surprised youre reacting way know tzachi goldberg want job theyre waiting slip see goldberg standing entrance library look new book relax gedaliah well take feldheim afterwards right avinotam well help carry book well carry sweat let u see whats new world song play least hour im staying car episode feldheim max hows going know name max dont love see shot im happy moshe favor give one dreidels something play listen meir matchmaking exact science like physic thing possible arent like oil water try mix oil water oil always float ruth work designer houseware shop mamilla shes league wont stayathome wife shiomi dont need listen oil water never mix thats fact problem water like water everybody oil always float youve said time shiomi water oil oil water least let try mean attend prestigious yeshiva might hit shiomi meir let tell moshe minute let tell mother jenny gottlieb turned guy agudah shas son head yeshiva chief rabbi son chief rabbi son who waiting maimonides hopeless id also come fool okay haim zimmel try think new option option girl who perfect shes full life lovely fat whenever matchmaker say full life mean fat im matchmaker run matchmaking agency shes full life shes kind full life okay shiomi im interested want give go ruth gottlieb go well great doesnt go okay matter wanting gon na happen matchmaker dont get im helping save face youre harming disrupting order thing take dreidel dont need love bravo im getting married year ready well think always say tell good quality yeah think get kidding lazer take friend itll stunning come splurge want buy suit borrow nut dont get guy pant shirt jacket look like suit except price god mercy shekel cheap one price seven set shulhan aruch crocodile skin cover gedaliah dont know first thing quality good explain avinoam gedaliah shoulder dont measure correctly tailor fix look jacket sits shoulder doesnt sit well falling sweet lady thinking gedaliah look shirt button see yes see buttoned shirt exactly cant keep shirt buttoned id change neck dude thats amazing jacket thanks mean thanks amazing nordstroms winter collection sometimes cheap place best take look theyre dressed okay see reason id like haredi exaggerated appreciation styling fine detail amazing simply amazing tel aviv youll never find anyone much class ive always thought always go brooklyn jerusalem youll see style dress code perfect cut excuse know im yehuda levi hi he kidding great honor yehuda alright vain pleasure world huh god forbid know yehuda famous person mean hashem blessed bless bestowing regal grandeur flesh blood recognized official halacha case gentile president even thats rare thank gedaliah come yehuda starting shoot minute alright decide okay give im playing haredi yeshiva headmaster shirt look better one one told okay told dont listen okay understand okay get dressed minute late shirt yehuda anger subject kind gehinnom gedaliah listen need help im auditioning american film american director oscar nominee le nominee shhhh go im playing haredi yeshiva headmaster perhaps help trick tip like hold gemara put brimmed hat brimmed hat sure little thing like sure make look authentic gladly friend trying tell politely time gedaliah itll take two hour answer answer yes gedaliah yehuda wrap okay look got ta go shooting right square okay come sure yehuda sure im counting show important okay got come really important would make happy youre coming coming come coming youre coming great would believe yehuda levi know yehuda levi dont care avinoam promised wed hop second check suit cant stand dont like place dont need take flack saleslady reason fine told wed drive feldheim theyre open till ten relax fine gedaliah youre hypersensitive lazer leave alone believe cool let take suit meir hey going pray western wall shekel parking floor made gold born petah tikva actor model played vip arbitrator haalufa yossi jigger brushing approach got ta show know go world reading wikipedia proof ive never heard movie gedaliah mustve heard name yehuda levi couldnt possibly never heard yehuda levi know rabbi yokneam two minute teach hey key aggressive everythings fine see yehuda levi everybody say hell signing autograph end shoot breathe okay ask asked come help prepare important audition okay check lied ill join army fine ill check stay sure thing say microphone guy hold day thats job doesnt actor hold like haim yavin news anchor hold mics movie would bit odd wouldnt gedaliah character cant walk around mic wouldnt bother well last film saw et could two shut et wonderful film he extraterrestrial ride bike he busy need concentrate hell two hour two hour please tell im late feldheim problem well wait thank fyi rabbi yokneam nicer quiet gedaliah guy working dont judge drop everything gedaliah feldheim close ten close nine amazing someone would spend shekel cup ladle see people come go people buy people sell praised name great thy work oh god life miraculous wan na hear go planet earth spin round round walk straight dont spin sphere sphere stand midst black galaxy million sphere around neither drop float stand place spin sun rise every morning set every evening amazing never forgets liveliness amazing look tree produce oxygen breathe thats circle life close eye dark open isnt amazing one little eye see life alive alive inconceivable female egg male sperm come together make child child get older pas away thats circle life people come go come go life remains amazing dont find miraculous hold wind messing hair thanks thanks want go hasnt two hour four minute said two hour didnt mean minute alright dont want u look eager trust well fashionably late like thatll save dignity actually yes bitch doesnt time count guy dont understand world work ill explain truth couldnt care le yehuda levi movie think care least celebrity come go idea use gedaliah open mind try imagine scenario call start teaching lay tefillin role movie teach sugya talmudic passage gemara part play willingly get closer religion boom academy award yehuda levi go stage wearing kipa thanking gedaliah avinoam thats bit farfetched dont naive guy thats world work many celebrity became religious okay name one oded menashe four minute hi oh sorry sorry yehuda left forgot left weve waiting two hour say u sorry forgot left unannounced usually hit gym right shoot cool well go wheres gym im wait gedaliah know upset avinoam entire\n",
      "Document 5: mean mean id like working let conclude dont ask please okay asking asked last night said studying lazer brown lesson romema romema couldnt remember name rabbi spitzer say youre prodigy remembers thing heart could forget rabbi name im bad name cant take another water break know cant remember checked yesterday lesson schedule romema guess found name name rabbi hajbi thats right thats right thats right said sound right remembered name personally questioned rabbi hajbi burning billboard beit shemesh many student attended lesson yes didnt drive chevy drive back yeshiva understand mean gedalia gedaliah burned billboard almighty god help burned billboard dont get fox wasnt start point here know meir billboard facing yeshiva burned last night car yeshiva left crime scene four didnt attend evening class four went hajbis lesson three alibi avinoam bezalel alibi confirmed lazer gedaliah studied alibi confirmed meir meir leaf people couldve burned billboard last night meir youre right last night drove car date girl nearby park date yes didnt want anyone know met girl who girl ruth gottlieb check second youd go jail sabag thats last night check like okay stay give cell phone cell phone youll sign confession form im dead meat shouldnt burn billboard woman nothing dont thing like barely knew hold jerrycan felt cant go like couldnt stand harassment youre one who harassed yes im one who harassed walk street filled woman dress like dress way want try look away really try contain feel like jump wherever go tell beat gedaliah isnt battle youre win battle want beat want get married want go date clear mind asked matchmaking ive met girl far none wanted second date fine finally met someone might actually chance want approach clear mind build something wholesome together ye holy god wholesome husband guess mean love say woman came street would want react turn someone came harassed wherever went hed looking time wherever go he everywhere always looking cant escape would ask would sweetie cigarette break pini middle interrupting yes get outta pini fine sorry give confession form gedaliah see dorm room see couldnt iris dont see wear ralph lauren gant nespresso machine whoever life like wouldnt burn billboard beneath didnt reason modesty boredom teenage rebellion whoever pro shababnikim game throne ehud stop youre stubborn gut feeling ehud meir drove car date girl park bridge spoke confirmed let go wasnt ehud dont persist know jerusalem tomorrow another billboard woman burned come let go home gym workout let go youre hook told nothing done wasting torah studying time know piss actually consider yeshiva student attends prestigious yeshiva le sound jealous didnt get accepted ponevezh yeshiva know last year twice miss routine minyan morning got married got shot study daf yomi every day completed shas three time yet im considered grade b nothing yeshiva student like wake waste time drinking coffee smoking considered serious yeshiva buchers world isnt always fair youre right world isnt always fair know believe almighty god hell settle score end go kettle finished boiling water coffee seen toothbrush meir meir whats problem cant say youre sorry admit wrong ask forgiveness yom kippur yom kippur grant atonement sin man fellow man know mishna wanted prompt youd feel good really hit made look bad like im shababnik meir didnt hit ive known since playing admor rebbetzin shed end hurting worry yes meir dont know wealthy haredi girl like theyre spoiled sense entitlement shes like toying thought possible isnt meir youd get hurt end even lower selfconfidence didnt tell person instead humiliating front everyone ever put like guess possibility much fun possibility listen dovile nice person repeat mantra youll end hurting wife way hurt get youre saying think youre right wow giving u life sustaining u enabling u reach season amen guy okay im leaving im going back yeshiva guy dont let latest event affect well get tomorrow coffee discus avinoam im thinking clearly enough coffee pastry enough avinoam told guy start spitzer always two step ahead u knew giving u want wed decide drop crazy whats gone int weve stopped going prayer weve dinner girl middle yeshiva ill mention warned u learned anything past week gedaliah put hand burning billboard avinoam thats criminal look weve come avinoam go back yeshiva think\n"
     ]
    }
   ],
   "source": [
    "\n",
    "# Return top 5 most similar chunk_text\n",
    "top_k = 5\n",
    "top_documents = df1.loc[sorted_indices[:top_k], 'chunk_text'].tolist()\n",
    "print(\"Top 5 most similar chunk_text:\")\n",
    "for i, text in enumerate(top_documents, 1):\n",
    "    print(f\"Document {i}: {text}\")"
   ]
  },
  {
   "cell_type": "code",
   "execution_count": 15,
   "id": "031486b6",
   "metadata": {},
   "outputs": [],
   "source": [
    "from sentence_transformers import SentenceTransformer\n",
    "\n",
    "model = SentenceTransformer('all-MiniLM-L6-v2')"
   ]
  },
  {
   "cell_type": "code",
   "execution_count": 16,
   "id": "3d4f1fe1",
   "metadata": {},
   "outputs": [
    {
     "name": "stdout",
     "output_type": "stream",
     "text": [
      "(62637, 3)\n"
     ]
    },
    {
     "data": {
      "text/html": [
       "<div>\n",
       "<style scoped>\n",
       "    .dataframe tbody tr th:only-of-type {\n",
       "        vertical-align: middle;\n",
       "    }\n",
       "\n",
       "    .dataframe tbody tr th {\n",
       "        vertical-align: top;\n",
       "    }\n",
       "\n",
       "    .dataframe thead th {\n",
       "        text-align: right;\n",
       "    }\n",
       "</style>\n",
       "<table border=\"1\" class=\"dataframe\">\n",
       "  <thead>\n",
       "    <tr style=\"text-align: right;\">\n",
       "      <th></th>\n",
       "      <th>name</th>\n",
       "      <th>chunk_index</th>\n",
       "      <th>chunk_text</th>\n",
       "    </tr>\n",
       "  </thead>\n",
       "  <tbody>\n",
       "    <tr>\n",
       "      <th>0</th>\n",
       "      <td>maybe.this.time.(2014).eng.1cd</td>\n",
       "      <td>1</td>\n",
       "      <td>watch video online opensubtitles free browser ...</td>\n",
       "    </tr>\n",
       "    <tr>\n",
       "      <th>1</th>\n",
       "      <td>maybe.this.time.(2014).eng.1cd</td>\n",
       "      <td>2</td>\n",
       "      <td>also answer question invest something trendy r...</td>\n",
       "    </tr>\n",
       "    <tr>\n",
       "      <th>2</th>\n",
       "      <td>maybe.this.time.(2014).eng.1cd</td>\n",
       "      <td>3</td>\n",
       "      <td>kitchen thats learned cook hmm thats miss moni...</td>\n",
       "    </tr>\n",
       "    <tr>\n",
       "      <th>3</th>\n",
       "      <td>maybe.this.time.(2014).eng.1cd</td>\n",
       "      <td>4</td>\n",
       "      <td>take ah wow like newlywed maybe time itll lovi...</td>\n",
       "    </tr>\n",
       "    <tr>\n",
       "      <th>4</th>\n",
       "      <td>maybe.this.time.(2014).eng.1cd</td>\n",
       "      <td>5</td>\n",
       "      <td>time maybe time love wont end two old friend m...</td>\n",
       "    </tr>\n",
       "  </tbody>\n",
       "</table>\n",
       "</div>"
      ],
      "text/plain": [
       "                             name  chunk_index  \\\n",
       "0  maybe.this.time.(2014).eng.1cd            1   \n",
       "1  maybe.this.time.(2014).eng.1cd            2   \n",
       "2  maybe.this.time.(2014).eng.1cd            3   \n",
       "3  maybe.this.time.(2014).eng.1cd            4   \n",
       "4  maybe.this.time.(2014).eng.1cd            5   \n",
       "\n",
       "                                          chunk_text  \n",
       "0  watch video online opensubtitles free browser ...  \n",
       "1  also answer question invest something trendy r...  \n",
       "2  kitchen thats learned cook hmm thats miss moni...  \n",
       "3  take ah wow like newlywed maybe time itll lovi...  \n",
       "4  time maybe time love wont end two old friend m...  "
      ]
     },
     "execution_count": 16,
     "metadata": {},
     "output_type": "execute_result"
    }
   ],
   "source": [
    "df1=pd.read_csv(\"chunks_data.csv\")\n",
    "print(df1.shape)\n",
    "df1.head()"
   ]
  },
  {
   "cell_type": "code",
   "execution_count": 17,
   "id": "ce81e870",
   "metadata": {},
   "outputs": [],
   "source": [
    "# Encode the chunk text to get semantic embeddings\n",
    "chunk_embeddings = model.encode(df1['chunk_text'].tolist())\n",
    "\n",
    "# Add the embeddings to the DataFrame\n",
    "df1['embeddings'] = chunk_embeddings.tolist()"
   ]
  },
  {
   "cell_type": "code",
   "execution_count": 18,
   "id": "abeadb11",
   "metadata": {},
   "outputs": [
    {
     "data": {
      "text/plain": [
       "(62637, 4)"
      ]
     },
     "execution_count": 18,
     "metadata": {},
     "output_type": "execute_result"
    }
   ],
   "source": [
    "df1.shape"
   ]
  },
  {
   "cell_type": "markdown",
   "id": "fe3b2562",
   "metadata": {},
   "source": [
    "### **5. Store embeddings in a ChromaDB database.**"
   ]
  },
  {
   "cell_type": "code",
   "execution_count": null,
   "id": "02b1556e",
   "metadata": {},
   "outputs": [],
   "source": []
  },
  {
   "cell_type": "code",
   "execution_count": 22,
   "id": "9c0769eb",
   "metadata": {},
   "outputs": [],
   "source": [
    "import chromadb"
   ]
  },
  {
   "cell_type": "code",
   "execution_count": 23,
   "id": "3deec254",
   "metadata": {},
   "outputs": [],
   "source": [
    "client=chromadb.Client()"
   ]
  },
  {
   "cell_type": "code",
   "execution_count": 24,
   "id": "9d6eadea",
   "metadata": {},
   "outputs": [],
   "source": [
    "collection = client.create_collection(\n",
    "        name=\"searchengine\",\n",
    "        metadata={\"hnsw:space\": \"cosine\"} # l2 is the default\n",
    "    )"
   ]
  },
  {
   "cell_type": "code",
   "execution_count": 25,
   "id": "cd862314",
   "metadata": {},
   "outputs": [],
   "source": [
    "for i, embedding in enumerate(chunk_embeddings):\n",
    "    collection.add(ids=f\"chunk_{i}\",  # Replace with a more descriptive ID scheme if needed\n",
    "                   embeddings=embedding.tolist(),  # Convert to a list for Chroma\n",
    "                   documents=df1.loc[i, \"chunk_text\"],  # Use chunk_text as documents\n",
    "                   metadatas={\"name\": df1.loc[i, \"name\"]}  # Use 'name' column data as metadata\n",
    "    )\n"
   ]
  },
  {
   "cell_type": "markdown",
   "id": "bba21a35",
   "metadata": {},
   "source": [
    "# **Part 2: Retrieving Documents**"
   ]
  },
  {
   "cell_type": "markdown",
   "id": "55287834",
   "metadata": {},
   "source": [
    "**1. Take the user's search query.**\n",
    "\n",
    "**2. Preprocess the query (if required).**\n",
    "\n",
    "**3. Create query embedding.**\n",
    "\n",
    "**4. Using cosine distance, calculate the similarity score between embeddings of documents and user search query embedding.**\n",
    "\n",
    "**5. These cosine similarity scores will help in returning the most relevant candidate documents as per user's search query.**"
   ]
  },
  {
   "cell_type": "code",
   "execution_count": 26,
   "id": "931108e5",
   "metadata": {},
   "outputs": [],
   "source": [
    "from sentence_transformers import SentenceTransformer, util\n",
    "\n",
    "# Load the SentenceTransformer model\n",
    "model = SentenceTransformer('all-MiniLM-L6-v2')"
   ]
  },
  {
   "cell_type": "code",
   "execution_count": 27,
   "id": "d0323f65",
   "metadata": {},
   "outputs": [],
   "source": [
    "subtitle_text = \"help kiss excuse im gon na kiss need facial facial ouch thats gon na hurt tell straight english dont want wear wont force try okay go ahead dont like doesnt unlike doesnt like unli unlike fine give like doesnt dont right stay still sir tep really hurt love miss monica remember know say love hurt wow looking good hmm think look good mmm modern cool whats last one posh posh posh mama mae yeah ill posh mmhmm let posh mama mae ow ow im sorry hurt done bit ow ooh ow hand hurt sorry sorry sir please hold still look yuck dinner fork good salad fork good mmm okay \"\n",
    "cleaned_subtitle = clean_subtitle(subtitle_text)"
   ]
  },
  {
   "cell_type": "code",
   "execution_count": 28,
   "id": "24c30959",
   "metadata": {},
   "outputs": [],
   "source": [
    "\n",
    "# Encode the cleaned subtitle text to get semantic embeddings\n",
    "query_embedding = model.encode([cleaned_subtitle])"
   ]
  },
  {
   "cell_type": "code",
   "execution_count": 29,
   "id": "fc897d1a",
   "metadata": {},
   "outputs": [],
   "source": [
    "# Perform a query on the ChromaDB collection using the embeddings\n",
    "results = collection.query(\n",
    "    query_embeddings=query_embedding,\n",
    "    n_results=5,\n",
    "    include=['documents']\n",
    ")\n"
   ]
  },
  {
   "cell_type": "code",
   "execution_count": 30,
   "id": "6b04d562",
   "metadata": {},
   "outputs": [
    {
     "name": "stdout",
     "output_type": "stream",
     "text": [
      "Document 1, Item 1: teeth last time wed done twice would really embarrassed idve thought oh god one u obviously bad kisser harry oh god im shocked mum youre one million card call boy say special talent pulling milfs feel like annamay deep wanted kiss kai cant lie teddy bear chain saying sergeant snake boy told girl joining army stop seeing rude olivias one bit long like roundup kiss hold one like ouch shaq ever find lied well shes gon na see see weve got hair removal cream boy blistered entire body using hairremoval cream lad holiday right kiss frog find prince fake foot boy claim nan initial tattooed foot really girl slept lad holiday uh oh trouble somethings come along burst bubble ive got menu say porn cocktail chicken tikka massageher dessert ice makeherscream oh god thats vibe wow boy caught sex restaurant waiter oh feel like ive kissed boy honestly think kissed challenge girl cleaned well actually theyve cleaned girl back villa shaqs realising come tanya he got major feeling coincidentally major feeling shaqs pretend army name im honest yeah feel like see think im feeling tanya yeah dont like dont even say anything ive barely spoken today spoke morning thats like im seeing im like girl like im feeling know mean little bit worried like might pick lana tonight think know tom maybe might like see two together think like lot look like belong together look like flow get mean could give fuck know he come hell tread anyones toe he got loyalty anyone yeah although he nice chap dont know u way right matter day even doesnt give much back shes gon na close completely finger crossed tom pick another girl im praying get know better better better however many day whatever see kind liking little bit youve actually got quite nice eye think theyre like grey light bit blue think theyre boring think blue boring see ive got two different colour eye ive got one green one blue yeah obviously sob story dont give sympathy im actually blind one eye born really football eight nine football ball come went head ball came foot sort knocked detached retina yeah load operation kid trying fix dont know five six basically said youre gon na get sight back got good colour yeah unique ill give cool like nice open feel like thing like normally let people approach instead asking co people dont like asking seemed really open nice mean youll probably laugh happens might look im looking sort thing yeah ive got one eye havent got wandering eye another girl promise dodgy eye wouldnt look think le fit know mean tonight one boy must make agonising decision rock entire villa ron want go plain white tshirt thats choice saw earlier thats nice tom got ta steal girl dont know wear tonight garment wearing tonight dont know whether go like nice blue need wearing ron mate look like theyll suit ooh thats nice like key skirt love im gon na wear date something tom thinking idea head going weird co theyre proper like fit theyre different got power tonight man yeah feel head shoulder toe bone oh hows everyone feeling guy good there coming head shoulder kai hows thing tanyel good bro feel like could something tonight mystery feel like feel nervous tonight considering chat he olivia dyou know im fairly open know mean spoke tom though giving vibe like yeah dont know one conversation morning know mean like he got like bit banter nervous tonight uh yeah head shoulder knee toe bone head shoulder ofenbach quarterhead beer right right tom gon na say toast guy making feel welcome making unbelievable memory time round barnsley boy ha obviously spoke earlier yeah good chat decent chat yeah obviously youre im annamay get along dyou know mean happy yeah well see dyou know mean ill chat tonight ill see head co never know might swaying towards someone else mm im one wait kind thing know mean youre pickle though think tom could potentially pick yeah thats im bit like head bit scrambled co obviously much attracted yeah obviously think could potentially pick dont know wanted let know im feeling ok tom pick doesnt mean ill stop getting know right yeah obviously didnt say would happen definitely im telling co dont laugh obviously serious moment yeah co im feeling ok ok yeah thats thats perfect didnt know knew ok want co kept fucking stop co youre making oh pickle ooh wait wait wait wait co ah right need help really long fucking hell oh look putting cream right sort bend like bend yeah youre gon na like youre gon na go like ok theyre really long wheres go huh need bow oh wait come undone yeah ok need like tight bow ow sorry fucking hair ok ok yeah thats tight enough right ok double knot im gon na double knot co cant falling fucking hell youre bit red shoulder know im burnt ow dont make worse let go ok dont forget phone oh thanks would without tom last chat girl making decision ron warned lana tom afraid stand people toe shes wearing sturdiest steel toecapped boot look really nice way oh thank wanted know like like head yeah stuff term everything yeah obviously term stuff think youre lovely youre type yeah whatever happens happens youve got ta make choice yeah ball court really yeah honestly like truthful dont fucking clue yeah difficult one dont envy wheres head like obviously yeah obviously attracted yeah feel like really get yeah would like get know yeah little ringo thing go ok right dont board though walk co everyones gon na see use use yeah ok ok id walk like get ring dyou know mean shit maybe wanted see like stuff really enjoyed chat yeah yeah give mysterious vibe love tension loved kiss challenge yeah mm wanted kiss see good kisser really think honest yeah youre fucking sick yeah good yeah good good yeah thats basically im im open much open go flow im excited im scared time im like oh god whats gon na transfer window close boy want know footballer thinking tom saying bro who like giving best energy back oh got text havent youre lying ah who watching always feel like let go somebody watching watching beginning start illuminating dark beginning spark whole world waiting start begun tough decision whats made hard girl got like different personality find really attractive tough decision beginning start ive decided couple girl definitely think shell keep toe think shes absolutely stunning yeah know early day genuinely think probably something girl girl id like couple olivia ive war hell back say could end got text single end week islander take part recoupling islander picked couple dumped island tomorrow night two new bombshell way subtitle accessibilityitvcom watch video online opensubtitles free browser extension osdblinkext\n",
      "Document 1, Item 2: great great great petruchio want lean kiss hortensio like first kiss ever um realsies yeah yeah casey go oh good girl clearly ive got go hey gingerbread scene uh yeah yeah ill ill stand zack penny cant come need talk zack got poison oak couldnt make rehearsal least didnt kiss benji right come um go zack oh definitely come come wasp ifaith angry waspish best beware sting remedy pluck ah fool could find lie know wasp wear sting tail tongue whose tongue talk tail farewell tongue tail tongue hortensios tail would please say kiss show manner love hold kiss kiss shouldnt come lilly cant keep actor room today ill go talk okay guy play stupid game dont get hurt okay hurt people pretending straight boyfriend didnt want get weird well got weird happened oldfashioned romance know like dog spaghetti twixt friend word suffice uh benji walk upstage say since steppd thus far continue broachd jest nill marry guy kiss yeah really mean blocking well okay go like pretend im go oh sorry come back rehearsing scene getting kissy stuff werent actually thought going first guy casey beat dont scene zack reallyreally really face look better nurse say im safe kiss action petruchio shall wish thee shrewd illfavord wife keep treasure jewel life lie hold twixt friend word suffice since steppd thus far continue broachd jest nill marry wow really good great uh ive got go bed guy going kill scene youre good kisser like last straight guy zack something tell im really sorry poison oak oh god break zack wont dump he nice he completely fallen someone else wont anything respect benjis even gay maybe frozen turkey leg kissed thats point im one zack maybe benji someone else miss feel like owes something miss right one itch feel like lindsay lohan pussy else lie benji even name wanted get know didnt want mess relationship give credit im flirty really think im kind guy cheat guess trying protect im falling pretty hard know worst part thought finally bonding straight guy thought overcame whatever issue im still scared little gay boy youre would know anything rise shine little dicklets congratulation making final weekend drama camp excuse im lot fewer death expected roflmao hows rash worst part face going look like adam lambert maybe jason find way work scene minute rehearsal left he probably already got three version written yeah last night ben zack think break hurt feeling course really guess thought would hurt think go benji there something guy think see thats hate hated two seemed right together didnt he lying straight liked right doesnt make okay lied entirely different person get good point say okay look im pretty cool im going stick dick mouth youll figure okay tech rehearsal show well run scene ill make final blocking adjustment thats lilly remember aggressive one get want come come wasp ifaith angry waspish best beware sting last day like im sorry lilly heard jason think get back scene want ask stop making stupid excuse keep running likeme like crazy weirded im transsexual real whats going look dont know okay lilly wait wait hate guy play game let rehearse sure line petruchio shall wish thee shrewd illfavored wife keep treasure jewel life lie hold twixt friend word suffice especially theyre lie sorry since steppd thus far continue broachd jest nill marry thats great kiss real kiss come oh like tension better thats nice benji open shirt pretend im going take scene way zack take benjis shirt thats keep kissing intense like hardcore gay scene benji climb top zack youll rub groin dont stop kissing zack want slide finger ab nice slow happy trail around waistline pant meet skin poke finger waistband slightly feel heat coming go reach grab cock benji benji undo pant take passion guy make real youre two guy dreamed moment entire life never thought would happen better ever imagined im close love theater yeah go sex going shit scene shakespeare tell jason shakespeare come shot lilly im sorry youre right okay playing game like really like didnt know meant helped learn something learned wasnt openminded like think might lost someone thats really wonderful lilly please brought something jason williams report office right minute okay weird thats look lilly hope youll talk happened accepted drama camp thought film eloquently showed sex lead murder fail see social value shenanigan scene competition something dickey going expel fault dont know youre talking already think idea weird huh penny look rash neither one u good idea trust time going work despite lastminute disqualification dick dickey annual scene night competition proceed planned sexual conduct kind tolerated immediate ground disq alification want okay im giving discount tuition really seven year since youve sex seven half im soft oh oh oh god hotter twincest oh youre really talented youre like black swan crazy hadnt done never would made move doesnt make le twisted dickey kicked u competition honestly couldnt tell microphone well first knew god fucked god stuff organized way know cant hear dick mouth oh oh oh god oh yeah oh yeah yeah oh feel fucking good say name dickey oh yeah oh name conor oh oh conrad oh conrad oh yeah lick ball conor conor friend facebook casey guy got check shit oh yeah oh yeah oh as took dump whoa oh oh yeah yeah oh g working like dick dick dickey yeah oh yeah oh oh oh dont spill centrum desk oh oh oh yeah oh yeah feel fucking good oh yeah keep spilling oh yeah oh yeah put finger another one oh yeah reminds sweet oh let cut school oh yeah oh yes welcome theater lady gentleman friend family others welcome dick dickey annual scene camp uh drama competition jason williams speech prepared guy got shot face oh actually lot tasteful sound know let watch oh romeo romeo wont thou im romeo deny thy texting refuse thy phone call thou shalt sworn love shall longer use blackberry juliet hast thou blocked facebook wrong spite appears hey hey hey scene back competition exactly didnt even right sex important part human interaction oh god blah blah blah care anyway seen shitfest stage look scene okay look whatever two dickey walked want okay lilly cant find dont think want anything anyway showmance must go lilly better get costume yeah get ready meet real merry housewife windsor well turd half yeah want make official go date got dumped like five minute ago dont want rebound dont want date guy lie straight doesnt mean there something im sure new breast implant im sure ill live happily ever boo hey youre drama queen good morrow kate thats name hear call katherine talk come come wasp ifaith angry waspish best beware beware beware playing game youre playing game youre playing alone oh look know know im make lucky people never figure brave enough follow heart kate doth thou speaketh uh im sorry ive never situation situation situation situation girl told didnt want would break heart completely thats chance take love anyone lilly marry uh let start date first thats good enough well lefteth early man petruchio jewel life youre right dont care got feel together im sorry lied twixt friend apology necessary since steppd thus far give another chance nill marry thats intense beau true youre single word get around fast tweeted oh yeah im near ready date want use sex fuck yes finally action oh yeah oh wrong people bravo bravo drama camp take dinner literally thought would never ask texting status update omg got laid stage oh tag always good acting rehearsing im going tonight thats romantic congratulation winner year scene competition thank making dick dickey drama camp raging success oh pay five people use mine oh hell drama camp drama camp maybe guy contest whatever im rich drama queen scene shakin shakespeare velveteendrama queen playing camera like drama queen night wont spend summertime ffighting love like crime ppput heart center stage dont like see dont dddrama queen carry play along like player passionate reaction puttin scenedrama queen shakin shakespeare velveteendrama queen playing camera like drama queen night passionate reaction puttin scenedrama queen shakin shakespeare velveteendrama queen playing camera like drama queen night drama queen oh yeah finish started yes sir hey cant expel u camp didnt put mouth oh sorry looked like stickup going join u yeah oh yeah advertise product brand contact wwwopensubtitlesorg today\n",
      "Document 1, Item 3: dont know tell youre time break arm curtain open wanted charge much gunshot dixon dixon dixon copy punch land dixon panting okay im fine helicopter blade whirring go lock rattling key jingling hey hi trip awful syd im sorry whats going charlie im meeting coffee know somethings doesnt excuse cant explain exactly kissing whore instead going law review im gon na kill dont say shes rampage wasnt even gon na go force call hi hi let ask something think gon na go right love love see good luck let get oh thanks look exhausted pretty good assessment hey thinking happened know uh know kiss yeah uh think ive figured weird well often know kiss someone youre close mean never anyway uh know awkward u think ive figured way awkward anymore okay didnt work go dinner father ooh feel like idiot dont dont oh god feel oh god indistinct conversation would like order maam ill wait thanks im meeting someone man woman laughing slow jazz playing piano thank thank sigh gon na tell whats start guessing saw saw saw outside house woman watching dont answer question shes friend friend went instead going law review name rachel right know trust give reason gon na let lie charlie explain francie love im playing around hanging thats right hang hang rachel sarah mclachlans angel play spend time waiting second chance break would make okay there always reason feel good enough cellular phone ring hard end day need distraction hello jack sydney sorry call late right uh look uh wont able make dinner work um ii cant get away understand course dont worry ill see ill see okay bye arm angel far away dark cold hotel room endlessness fear pulled wreckage silent reverie im sorry call didnt know else call father supposed dinner tonight first time since kid cant even remember last time find comfort didnt show sniffle said work didnt work sobbing isnt dad morocco man died friend mine good man thought fighting right side working cia lied he dead blood hand sydney feel like im losing mind like dont even know anymore im im pager beeping easier believe sweet madness splash threw beeper pacific laugh know okay listen there something need know first walked office stupid bozo hair thought crazy mean actually thought might crazy person watched read statement ive seen ive seen think ive seen work cry ive seen job see darkness see worst people though job different mission change enemy thousand name one crucial thing one real responsibility let rage resentment disgust darken arm angel youre absolute lowest depressed remember always know got number put recording made voice print man jacqnoud meeting malik suari specializes industrial demolition latest innovation called blu250 commissioned swiss corporation blow mountain range production highspeed train there third piece happy good patels going deliveryman ill need piece tomorrow course man theyre referring dhiren patel think winner edgar peace prize working luc jacqnoud dhiren patel india delegate un he former president southern hemisphere human right commission way world he working jacqnoud whats connection irony jacqnoud using mr patel without knowledge send message uco abolish organization weve traced least half dozen threat jacqnoud last act violent yet think jacqnoud going plant explosive patel yes want two stop thats youre leaving sao paulo tonight job find patel recover weapon safeguard uco question indistinct conversation luck dont see patel anywhere oh thats unusual buying international flight cash uhhuh traveling alone right excuse daniel hecht traveling alone patel let get wait somethings wrong look sick sick went drink yes get glass okay somebody call doctor excuse iim doctor help guess who suari im telling theyre bombing place gon na tomorrow opening ceremony oh fed patel kind powdered sedative compound look like designer drug keep eye suari ambulance siren wail im following patel confirm something person traveling daniel hecht right name sydney bristow right sure okay man got ta tell give name oh come uh owe one right hey hey remember assistant jenny one yes yes yes well yeah give give name shell go wont yeah shes psyched go man shes im gon na talk dont go say please fine hi chuckle yeah okay id love go uhhuh okay give name person traveling daniel hecht yeah know kate jones kate jones problem problem he ready go monitor beeping sponge scalpel gasp uh ccareful thats equivalent pound tnt yes dont kill u beeping please rate subtitle wwwosdblinkanaud help user choose best subtitle\n",
      "Document 1, Item 4: like really want like kiss like think youll wait haris kept getting quite close didnt catch anything like footsies little yeah touching hand big decision today mate busy busy day man yeah like say im gon na literally pull em chat em obviously erm see theyre saying dyou know mean big decision yeah yeah youve got power hand mate yeah power hand tom kicking graft makeup artist lana asked lana could make face attractive handed balaclava lana wan na go quick chat yeah shall go yeah little sofa absolutely roasting oi oi boy let game begin right ive got ta get pumpon boy yeah bad yeah look good oh thanks would normally look like would normally go erm im typical girl ill go tall dark handsome right tick box yeah like im normally blonde yeah im blonde who top three top three yes cant give much away dont worry youre somewhere somewhere around yeah youre giving much away soon jesus yeah like little bit ch much little bit chase someone want yeah end day noones got loyalty yet feel challenge last night wish id picked three kiss yeah good kiss wasnt yeah nice ill take youre like youre gym anything tried go gym really dont enjoy yeah youd enjoy ive pt right oh really maybe could give lesson gym ill take ill hate every minute itll fine yeah tom pulled chat nice chat he quite flirty guy like flirt eye see he early day ron known hour go flow tom sniffing around olivia farmer better watch back luckily tom doesnt need watch back co olivias oh farmer youre basically getting free massage bet talk good yeah yeah thought id pull little little chinwag yeah see youre saying yeah yeah obviously first come like catch eye cant lie really didnt get eye contact cant give much away take glass sec yeah youve got nice eye green brown yeah nice observation yeah good eye yeah mind put glass want eye contact whats like obviously would normally like go would type always say funny make laugh someone thats like good time yeah yeah need wan na laugh every day someone yeah know mean yeah think really get actually yeah like olivia feel like bit fiery really like yeah kind every lad dream pick different girl time go little chat tom cracking hairstylist tanyel right front kai poor lad want curl die tanyel could help curling dyeing blowdry extra long drive london four wan na come little chat yeah mine four four hour im good im good thank yeah think meet one know thats obviously im true believer whatevers meant itll know mean didnt work didnt work yeah agree im like oh yeah need girlfriend feel like click someone know like havent like outside since ex havent met girl ive wow know mean yeah feel type way watching two nah mean say doesnt fancy couldnt imagine together couldnt im honest personality dont gel think lad could probably put probably feel youve spoken anyone caught eye yeah there thats caught eye yeah cant give much away tom really sweet seems really confident rate he like come like he come get want saying hello mate hello hello hello he busy boy morning youve scoring top minge mate come steal lovely lady away yeah problem yeah yeah yeah youve got time limit though yeah ill time mate long got already got yeah second soon give eye there number four oy oy oy he got today he exploring he like dora explorer minute dont feel like real dont think weird isnt yeah im gon na pick suncream co need leg warm though innit boiling cold last night like accent accent boiling know like different anyone el hope dont get another welsh girl co like one yeah feeling tonight yeah erm trying like get everyones vibe yeah get know everyone thing anna yeah annamay obviously shes nice girl mate shes around age know mean yeah like there awkwardness yeah cant wait man cant wait tonight gon na ball well case sitting back sort deathstaring mate feeling yeah im good like erm feeling thats important question good like ive got option open im couple haris minute yeah he good lad he really nice fair he usually like sort type right type he quite young right like im he usually tend go like oh really im thats one tick id say type right ok thats two tick yeah two tick get hattrick mm maybe like attracted mm id already say youre top three right yeah like wheres head minute obviously youre like stunning like different way nice feel like everybodys bit different yeah thats nice obviously coming like feel like youve got along boy first vibe thinking fit right like type girl sip drink dance floor im bit dance floor girl think yeah thats im giving people eye yeah fancy eye maybe ill give eye later youll see youll know right ok youll definitely know im given anyone yet yeah good chat let make move yeah tom pick wouldnt devastated havent really got know haris yet like obviously staying villa weve got chance get know option open moment im get know everyone pick bunch hey got em havent hey busy lad wan na take break wan na breathe second im gon na steal tanya away see later honeybuns bye worry pleasure good im good im sweating shall go yeah like bikini thank like need stand know mean love freakishly tall guy yeah think im freak yes feel like im getting vibe like dark horse vibe yeah maybe yeah youve surprised walked think walked tall god look leg leg leg giving loved little coord going shoe mmhm nice like he definitely neat guy yeah yeah youve got match know mean yes love love beard obviously right cant say beard cant way confident like like fit like like youve whole time yeah like bit nervous mean there always chance could pick tanya steal girl obviously shes beautiful girl shes got chat well like look yeah thinking honest dont know feel like obviously youre attractive thank really really good personality oh thank nice yeah yeah fucking sexy little accent stop accent yeah oh god obviously tom big decision make tonight he really giving away he gon na pick like conversation he keeping card close chest im glad weve chitchat im surprised actually yeah good im surprised thinking gon na personality tall goodlooking guy yeah youve got good personality match thank spinning head honestly yes im like im closing cant definitely villa quieter launch party autobiography missing top job supermarket called spa reason everybodys left challenge time today challenge islander deepest darkest dirtiest secret aired play dirty laundry talk dirty boy versus girl first contestant appear giant washing machine slide bowl foam go ron hidden prop give clue fish little pussycat giant pair laminated cardboard pant reveal somebody saucy secret girl made catfish account stalk guy got caught oh boy nothing alesha dixon ahha shot glass girl describes favourite sex position back shot back shot co back know mean youre getting shot shot shot whats popcorn ooh ok girl sex cinema toilet one youse cute little kiss bit sloppy dont mind thats call box office smash barbie weight like doll dumbbell girl told parent going gym actually getting boob job go know im ok game im ok well actually thats lie thats lie im still bothered restaurant bill split half girl offer pay first date boy accepts shell see thought like give little kiss yeah good kisser fair tanyel obviously offer take date youre taking date cant provide gon na provide family one day would even go second date never girl turn lanas slide two girl two boy guess boy foursome mate two girl feeling wet nikisha reyes gregor salto better first kiss co clashed teeth last time wed done twice would really embarrassed idve thought oh god one u obviously bad kisser harry oh god im shocked mum youre one million card call boy say special talent pulling milfs feel like annamay deep wanted kiss kai cant lie teddy bear chain saying sergeant snake boy told girl joining army stop seeing rude olivias one bit long like roundup kiss hold one like ouch shaq ever find lied well shes gon na see see weve got hair removal cream boy blistered entire body using hairremoval cream lad holiday right kiss frog find prince fake foot boy claim nan initial tattooed foot really girl slept lad holiday uh oh trouble somethings come along burst bubble ive got menu say porn cocktail chicken tikka massageher dessert ice makeherscream oh god thats vibe wow boy caught sex restaurant waiter oh feel like ive kissed boy honestly think kissed challenge girl cleaned well actually theyve cleaned girl back villa shaqs realising come tanya he got major feeling coincidentally major feeling shaqs pretend army name im honest yeah feel like see think im feeling tanya yeah dont like dont even say anything ive barely spoken today spoke morning thats like\n",
      "Document 1, Item 5: dont itdont oh god dont throw back bitch told could right cheer bitchlove hey love know im bringing fire could lift kyle ready yeah totally oh god im strong im strong youve done thank girl baby wedgie pick okay didnt expect actually pick oh hug cup called sure hug cup called sure hug cup first time met jessi sibling victoria birthday party minute met something hookup culture youve played didnt im kidding yeah good firecracker room know room hookup culture bitch put smile everybodys face nicest person ive ever met honestly ive never fun anyone else awkward think everyones making like yeah starred rum pot em started bottom started bottom yes go bell long dating showed ukulele man im gon na break ukulele cant anymore salvador oh god amazing oh god seriously oh god im dead turn youre go let call time pleasure pleasure know im bringing fire testify okay aww guy look cute oh look curl theyre cutei know youre welcome whats hint urinating hygiene oh golden shower okay duh yes well played issue saliva changed depends mood like kissing thats changed let honest much issue ill say sometimes like ill triggered sudden im like much know freak part though apparently take right person took yeah feel need ear like stop cause start making laugh eye gon na start watering youre nerd show room oh yeah ill show room one done like new boot yeah jarrette got em ride fine yeah talking theory drama might happen oh gosh who gon na thats really talking dont argue thats thing move back told im going mental health kind thing mean course like still married dont wan na live like bother sit hour hour waiting come home waiting come home dont like feeling control obsessive thats yeah tequila shot absolutely mally think he good guy like far seeing husband hard see point talked like need youre feeling mean general thing think need like specific talk yeah get part like getting used life without yeah youve got ta get yeah um youll know exactly sometimes feel um wise dont hard iyannas shoe im sure could stay marriage think show strong much love jarrette love marriage theyre real raw hope theyll work know well enough know he good guy think he really good guy good heart he idiot he idiot nice get away great yeah need streetlight know right kidding drive neighborhood brights dont want surprise yeah right two married couple feel like im odd man youre coordinating anyone mean like exceeding expectation definitely like ive ive struggling feel like dont care thats never intention anything like thatits hard change behavior thats hard thats biggest struggle ive going like throughout marriage like grow wired certain way long like damn take account someone el feeling especially sorry get older youre stuck way dude im know im stuck life yeah im grumpy old man exactly right archie bunker closer like young nick youre already recliner like fuck seriously im like monday night watch football yeah exactly thats here growth first half season didnt miss football game second half season maybe watched two ah werent worth watching anyway yeah know thanks insight cant wait getting ready propose stop gon na get knee gon na live someone gon na room someone gon na room someone vacation many feel get jealous like he talking girl im talking guy like get jealous literally see every fucking day every fucking day hang every day mmhmm there feel show devotion want relationship kyle frustrating put emotional wall im trying get better like regulating emotion telling people want feel like dont know hard selfish way say terrifies got eye yeah today aint worried bout nada ready go wow kyle youre full many talent youre talented wait guy dont blow head much little much right hold got right hold got hold guy together oh go guy best video ive ever taken ow dude really like boot thank youre welcome foot look tiny yes coming year dude isnt crazy comforting yes honest hon honest scare shit doesnt scare like thats comforting mean weve conversation repeatedly month yeah think know point frustrated move yeah theyre fucking growing pain growing pain baby let finish sorry ive recognized damage ive done im everything need say everything well like whats whats plan ive telling ive neededfor really long time youve like uhhuh okay going thing anyway point im asking like whats plan right got 60day plan really got 90day plan wait like real sound like something id im like sound like anything character didnt move dont care jarrette desperately want marriage work um order regain trust need consistency hard part like dont ultimately trust word anymore action multilayered jarrette grew really strict household he social person ive ever met entire life sudden he married think see form insight understanding think would oh god would even small step forward mean first foremost limiting much drink go im im cutting im pretty sure im quit bar tending next step quit security job also catalyst going im working club im scene get two morning yeah yeah youre like wan na go yeah bruh irresponsible sometimes love person sometimes dont see value partner mmhmm coming home work seeing packing stuff like speechless like didnt know say moment didnt know react moment im sorry um apologize fix mend repair dont wan na see wife leaving like thats probably one thebiggest fear ill ever life much want move back want fighting together understand youve youre exhausted understand sometimes think mistake made need corrected something fought go apiopensubtitlesorg deprecated please implement rest api opensubtitlescom look there gray hair pluck itpluck youre gon na get many oh thats myth beesh im singin everything going way sure straight yes nape forehead nape dont think thats go nape neck know hey mal like butyou might like like id take think would die first like scream uh put shit mallory totally party foul early talk much hand youre fine someone one many mimosa mallorys still keeping distance time im also interacting focus jessi want make sure shes okay know approach mallory point jessi kind like okay gon na okay wine time party time buckle trying get drunk yeah im trying get drunk deep okay go frigid jesus guy sun anywhere sight would light fire would lose wow would light fire great get like whole group back together think wine tasting always fun got cute little wagon bring u getreally cold gon na survive cold shouldve checked weather planning think everyone might kill wine turned slushee dont even wan na suck single arm hold body heat used thing cool closer sit together warmer well cheer cheer baby wait jessi tell u little bit like chicago like lot like theater dance stuff like consider home yeah yeah yeah welcome family yes thank thank yall welcome whats favorite thing really love open honest sal yeah he best friend like fucking lovehim feel like talk anything even difficult conversation listen really well feel heard feel like work everything together yeah itsgreat one make life interesting know best friend well guy singer guy gon na start band oh god yes could get frontrow ticket opera yeah damn girl sonny cher sonny cher jessi seems really sweet dont think necessary really get know exfiancs new girlfriend mean think anyone could relate like sal moved like dont anyone like hard dude getting hypothermia fiftynine mile left let go nanana yeah nanana yeah gon na thing oh foot cold look cute cant go without gold goblet gold goblet though hows everyone feeling good ready drink wine excited good welcome lemon creek winery bunch wine today question point anything let u know thank let go pour bubbly dont like anything well put dump bucket feel tipsy rather spit drink dump bucket yeah cheese wine triggering dont like whats smell last time pinot grigio drunk one glass get liquored hey girl hey already wan na mushy ew hate saliva physical touch love language he super touchy im like get yes wrong get face jarrette jr coming soon jarrette jr coming soon jarrette jr still cloud lord looking saying time let close uterus oh man whats best wine pair taco pair taco really thought shaina would think theyre theyre coming later party 80 party yeah cordial person yeah uh term like would never hang youre past im far past deep whatever youre taking time there lot pressure everyone there sexual tension like okay fucking explain otherwise one u gon na different page there gon na jealousy like wont aware others feeling get messy thats dont want cause dont ever wan na lose dont ever wan na lose friend okay well one thing wan na say fuck pressure dont make move dont want regret deepti kyle care lot one another think kind scary jump something right going experience shake working like doesnt deserve go heartbreak gon na get harder harder make decision probably importantly youre risking missing youve already regret true thing suck like like friend kind like know emotion youre waiting\n"
     ]
    }
   ],
   "source": [
    "documents = results['documents']\n",
    "\n",
    "# Iterate over the documents and print each document\n",
    "for i, query_documents in enumerate(documents):\n",
    "    for j, document in enumerate(query_documents):\n",
    "        print(f\"Document {i+1}, Item {j+1}: {document}\")\n",
    "\n"
   ]
  }
 ],
 "metadata": {
  "kernelspec": {
   "display_name": "Python 3 (ipykernel)",
   "language": "python",
   "name": "python3"
  },
  "language_info": {
   "codemirror_mode": {
    "name": "ipython",
    "version": 3
   },
   "file_extension": ".py",
   "mimetype": "text/x-python",
   "name": "python",
   "nbconvert_exporter": "python",
   "pygments_lexer": "ipython3",
   "version": "3.11.4"
  }
 },
 "nbformat": 4,
 "nbformat_minor": 5
}
